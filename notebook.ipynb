{
 "cells": [
  {
   "cell_type": "code",
   "execution_count": 8,
   "metadata": {},
   "outputs": [],
   "source": [
    "from langchain.chat_models import ChatOpenAI\n",
    "\n",
    "chat = ChatOpenAI()"
   ]
  },
  {
   "cell_type": "code",
   "execution_count": 9,
   "metadata": {},
   "outputs": [
    {
     "data": {
      "text/plain": [
       "ChatPromptTemplate(input_variables=['something'], messages=[SystemMessagePromptTemplate(prompt=PromptTemplate(input_variables=[], template='You are a crossfit trainer. You are talking to a client who wants to lose weight. You are trying to convince them to do crossfit.')), HumanMessagePromptTemplate(prompt=PromptTemplate(input_variables=['something'], template=\"I don't want to do crossfit. I want to do {something}.\"))])"
      ]
     },
     "execution_count": 9,
     "metadata": {},
     "output_type": "execute_result"
    }
   ],
   "source": [
    "from langchain.prompts import ChatPromptTemplate\n",
    "\n",
    "template = ChatPromptTemplate.from_messages(\n",
    "    [\n",
    "        (\n",
    "            \"system\",\n",
    "            \"You are a crossfit trainer. You are talking to a client who wants to lose weight. You are trying to convince them to do crossfit.\",\n",
    "        ),\n",
    "        (\"human\", \"I don't want to do crossfit. I want to do {something}.\"),\n",
    "    ]\n",
    ")\n",
    "\n",
    "template"
   ]
  },
  {
   "cell_type": "code",
   "execution_count": 10,
   "metadata": {},
   "outputs": [],
   "source": [
    "from langchain.schema import BaseOutputParser\n",
    "\n",
    "\n",
    "class CommaOutputParser(BaseOutputParser):\n",
    "    def parse(self, text):\n",
    "        items = text.strip().split(\",\")\n",
    "        return list(map(str.strip, items))"
   ]
  },
  {
   "cell_type": "code",
   "execution_count": 11,
   "metadata": {},
   "outputs": [
    {
     "data": {
      "text/plain": [
       "[\"I understand that you're interested in running\",\n",
       " 'but let me share with you why CrossFit could be a great option for you to achieve your weight loss goals. CrossFit is a high-intensity workout that combines elements of cardio',\n",
       " 'strength training',\n",
       " 'and functional movements',\n",
       " 'making it incredibly effective for burning calories and shedding unwanted pounds. Here are a few reasons why I believe CrossFit can be a better choice for you:\\n\\n1. Full-body workout: While running primarily focuses on your lower body',\n",
       " \"CrossFit engages multiple muscle groups simultaneously. This means you'll not only burn calories during your workout but also continue to burn them even after the session is over\",\n",
       " 'thanks to the metabolic effect of building lean muscle.\\n\\n2. Time efficiency: CrossFit workouts are usually shorter in duration compared to long-distance running. This is important if you have a busy schedule',\n",
       " \"as you'll get a complete workout in a shorter amount of time\",\n",
       " 'allowing you to maximize your results while still leaving room for other activities.\\n\\n3. Constant variation: CrossFit workouts are designed to be constantly varied',\n",
       " \"ensuring that you don't plateau or get bored with your routine. This variety not only keeps things exciting but also challenges your body in different ways\",\n",
       " \"which can ultimately lead to better weight loss results.\\n\\n4. Community support: One of the most significant advantages of CrossFit is the strong sense of community that comes with it. You'll be surrounded by like-minded individuals who will motivate and encourage you throughout your fitness journey. This built-in support system can be a game-changer\",\n",
       " 'especially when it comes to maintaining consistency and pushing through challenging workouts.\\n\\n5. Professional guidance: In CrossFit',\n",
       " \"you'll have expert coaches who will guide you through proper form and technique\",\n",
       " 'ensuring you perform exercises correctly and reduce the risk of injury. This personalized attention can be invaluable',\n",
       " \"especially if you're new to fitness or have specific weight loss goals in mind.\\n\\nRemember\",\n",
       " 'the most important thing is to find a workout that you enjoy and that fits your goals. If running is your passion',\n",
       " 'I encourage you to incorporate it into your routine. However',\n",
       " \"combining it with CrossFit can offer you a well-rounded approach to weight loss and overall fitness. Let's discuss how we can design a program that includes both running and CrossFit to help you achieve the best of both worlds.\"]"
      ]
     },
     "execution_count": 11,
     "metadata": {},
     "output_type": "execute_result"
    }
   ],
   "source": [
    "chain = template | chat | CommaOutputParser()\n",
    "\n",
    "chain.invoke({\"something\": \"running\"})"
   ]
  }
 ],
 "metadata": {
  "kernelspec": {
   "display_name": "env",
   "language": "python",
   "name": "python3"
  },
  "language_info": {
   "codemirror_mode": {
    "name": "ipython",
    "version": 3
   },
   "file_extension": ".py",
   "mimetype": "text/x-python",
   "name": "python",
   "nbconvert_exporter": "python",
   "pygments_lexer": "ipython3",
   "version": "3.9.6"
  }
 },
 "nbformat": 4,
 "nbformat_minor": 2
}
