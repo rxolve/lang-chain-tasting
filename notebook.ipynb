{
 "cells": [
  {
   "cell_type": "code",
   "execution_count": 1,
   "metadata": {},
   "outputs": [
    {
     "ename": "NameError",
     "evalue": "name 'llm' is not defined",
     "output_type": "error",
     "traceback": [
      "\u001b[0;31m---------------------------------------------------------------------------\u001b[0m",
      "\u001b[0;31mNameError\u001b[0m                                 Traceback (most recent call last)",
      "\u001b[1;32m/Users/help/Desktop/workswhy/lang-chain-tasting/notebook.ipynb Cell 1\u001b[0m line \u001b[0;36m5\n\u001b[1;32m      <a href='vscode-notebook-cell:/Users/help/Desktop/workswhy/lang-chain-tasting/notebook.ipynb#W3sZmlsZQ%3D%3D?line=0'>1</a>\u001b[0m \u001b[39mfrom\u001b[39;00m \u001b[39mlangchain\u001b[39;00m\u001b[39m.\u001b[39;00m\u001b[39mchat_models\u001b[39;00m \u001b[39mimport\u001b[39;00m ChatOpenAI\n\u001b[1;32m      <a href='vscode-notebook-cell:/Users/help/Desktop/workswhy/lang-chain-tasting/notebook.ipynb#W3sZmlsZQ%3D%3D?line=2'>3</a>\u001b[0m chat \u001b[39m=\u001b[39m ChatOpenAI()\n\u001b[0;32m----> <a href='vscode-notebook-cell:/Users/help/Desktop/workswhy/lang-chain-tasting/notebook.ipynb#W3sZmlsZQ%3D%3D?line=4'>5</a>\u001b[0m l \u001b[39m=\u001b[39m llm\u001b[39m.\u001b[39mpredict(\u001b[39m\"\u001b[39m\u001b[39mHello, my name is\u001b[39m\u001b[39m\"\u001b[39m)\n\u001b[1;32m      <a href='vscode-notebook-cell:/Users/help/Desktop/workswhy/lang-chain-tasting/notebook.ipynb#W3sZmlsZQ%3D%3D?line=6'>7</a>\u001b[0m l\n",
      "\u001b[0;31mNameError\u001b[0m: name 'llm' is not defined"
     ]
    }
   ],
   "source": [
    "from langchain.chat_models import ChatOpenAI\n",
    "\n",
    "chat = ChatOpenAI()\n",
    "\n",
    "c = chat.predict(\"Hello, my name is\")\n",
    "\n",
    "c"
   ]
  }
 ],
 "metadata": {
  "kernelspec": {
   "display_name": "env",
   "language": "python",
   "name": "python3"
  },
  "language_info": {
   "codemirror_mode": {
    "name": "ipython",
    "version": 3
   },
   "file_extension": ".py",
   "mimetype": "text/x-python",
   "name": "python",
   "nbconvert_exporter": "python",
   "pygments_lexer": "ipython3",
   "version": "3.9.6"
  }
 },
 "nbformat": 4,
 "nbformat_minor": 2
}
